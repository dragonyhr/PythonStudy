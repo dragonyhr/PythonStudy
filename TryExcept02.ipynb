{
 "cells": [
  {
   "cell_type": "code",
   "execution_count": 1,
   "metadata": {},
   "outputs": [
    {
     "name": "stdout",
     "output_type": "stream",
     "text": [
      "Enter a number:0\n"
     ]
    },
    {
     "ename": "ZeroValueError",
     "evalue": "0 error",
     "output_type": "error",
     "traceback": [
      "\u001b[1;31m\u001b[0m",
      "\u001b[1;31mZeroValueError\u001b[0mTraceback (most recent call last)",
      "\u001b[1;32m<ipython-input-1-3f46b937eda0>\u001b[0m in \u001b[0;36m<module>\u001b[1;34m()\u001b[0m\n\u001b[0;32m     16\u001b[0m     \u001b[1;32mtry\u001b[0m\u001b[1;33m:\u001b[0m\u001b[1;33m\u001b[0m\u001b[0m\n\u001b[0;32m     17\u001b[0m         \u001b[0muserValue\u001b[0m \u001b[1;33m=\u001b[0m\u001b[0mfloat\u001b[0m\u001b[1;33m(\u001b[0m\u001b[0mraw_input\u001b[0m\u001b[1;33m(\u001b[0m\u001b[1;34m\"Enter a number:\"\u001b[0m\u001b[1;33m)\u001b[0m\u001b[1;33m)\u001b[0m\u001b[1;33m\u001b[0m\u001b[0m\n\u001b[1;32m---> 18\u001b[1;33m         \u001b[1;32mprint\u001b[0m \u001b[0msquareRoot\u001b[0m\u001b[1;33m(\u001b[0m\u001b[0muserValue\u001b[0m\u001b[1;33m)\u001b[0m\u001b[1;33m\u001b[0m\u001b[0m\n\u001b[0m\u001b[0;32m     19\u001b[0m     \u001b[1;32mexcept\u001b[0m \u001b[0mValueError\u001b[0m\u001b[1;33m:\u001b[0m\u001b[1;33m\u001b[0m\u001b[0m\n\u001b[0;32m     20\u001b[0m         \u001b[1;32mprint\u001b[0m \u001b[1;34m\"Can't make a float from a sring\"\u001b[0m\u001b[1;33m\u001b[0m\u001b[0m\n",
      "\u001b[1;32m<ipython-input-1-3f46b937eda0>\u001b[0m in \u001b[0;36msquareRoot\u001b[1;34m(number)\u001b[0m\n\u001b[0;32m     11\u001b[0m         \u001b[1;32mraise\u001b[0m \u001b[0mNegativeNumberError\u001b[0m\u001b[1;33m,\u001b[0m \u001b[1;34m\"square root of negative number not permitted\"\u001b[0m\u001b[1;33m\u001b[0m\u001b[0m\n\u001b[0;32m     12\u001b[0m     \u001b[1;32melif\u001b[0m \u001b[0mnumber\u001b[0m \u001b[1;33m==\u001b[0m \u001b[1;36m0\u001b[0m\u001b[1;33m:\u001b[0m\u001b[1;33m\u001b[0m\u001b[0m\n\u001b[1;32m---> 13\u001b[1;33m         \u001b[1;32mraise\u001b[0m \u001b[0mZeroValueError\u001b[0m\u001b[1;33m,\u001b[0m\u001b[1;34m\"0 error\"\u001b[0m\u001b[1;33m\u001b[0m\u001b[0m\n\u001b[0m\u001b[0;32m     14\u001b[0m     \u001b[1;32mreturn\u001b[0m \u001b[0mmath\u001b[0m\u001b[1;33m.\u001b[0m\u001b[0msqrt\u001b[0m\u001b[1;33m(\u001b[0m\u001b[0mnumber\u001b[0m\u001b[1;33m)\u001b[0m\u001b[1;33m\u001b[0m\u001b[0m\n\u001b[0;32m     15\u001b[0m \u001b[1;32mwhile\u001b[0m \u001b[1;36m1\u001b[0m\u001b[1;33m:\u001b[0m\u001b[1;33m\u001b[0m\u001b[0m\n",
      "\u001b[1;31mZeroValueError\u001b[0m: 0 error"
     ]
    }
   ],
   "source": [
    "import math\n",
    "#Custome Exception class, a child of Arithemetic error\n",
    "class NegativeNumberError(ArithmeticError):\n",
    "    '''Custom Exception class, which is a child of Arithmetic error'''\n",
    "    pass\n",
    "class ZeroValueError(ArithmeticError):\n",
    "    '''Custom Exception class, which is a child of Arithmetic error'''\n",
    "    pass\n",
    "def squareRoot(number):\n",
    "    if number < 0:\n",
    "        raise NegativeNumberError, \"square root of negative number not permitted\"\n",
    "    elif number == 0:\n",
    "        raise ZeroValueError,\"0 error\"\n",
    "    return math.sqrt(number)\n",
    "while 1:\n",
    "    try:\n",
    "        userValue =float(raw_input(\"Enter a number:\"))\n",
    "        print squareRoot(userValue)\n",
    "    except ValueError:\n",
    "        print \"Can't make a float from a sring\"\n",
    "    except NegativeNumberError, exception:\n",
    "        print exception\n",
    "    except ZeroValueError, exception:\n",
    "        print exception\n",
    "    else:\n",
    "        break"
   ]
  },
  {
   "cell_type": "code",
   "execution_count": null,
   "metadata": {},
   "outputs": [],
   "source": []
  },
  {
   "cell_type": "code",
   "execution_count": null,
   "metadata": {},
   "outputs": [],
   "source": []
  }
 ],
 "metadata": {
  "kernelspec": {
   "display_name": "Python 2",
   "language": "python",
   "name": "python2"
  },
  "language_info": {
   "codemirror_mode": {
    "name": "ipython",
    "version": 2
   },
   "file_extension": ".py",
   "mimetype": "text/x-python",
   "name": "python",
   "nbconvert_exporter": "python",
   "pygments_lexer": "ipython2",
   "version": "2.7.15"
  }
 },
 "nbformat": 4,
 "nbformat_minor": 2
}
