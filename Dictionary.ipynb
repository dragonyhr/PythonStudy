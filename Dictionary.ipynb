{
 "cells": [
  {
   "cell_type": "code",
   "execution_count": 4,
   "metadata": {},
   "outputs": [
    {
     "name": "stdout",
     "output_type": "stream",
     "text": [
      "24\n",
      "key:\n",
      "Bella\n",
      "value:\n",
      "24\n",
      " \n"
     ]
    }
   ],
   "source": [
    "d = {}  # this is an empty dictionary\n",
    "#:  d = dict()\n",
    "# d = {\"jerry\": 25, \"tom\": 23}\n",
    "d[\"Bella\"] = 24 # add key:bellas which associate with 24 into the dictionary\n",
    "print(d[\"Bella\"]) #this will print 24 \n",
    "for key, value in d.items():\n",
    "    print (\"key:\")\n",
    "    print (key)\n",
    "    print (\"value:\")\n",
    "    print (value)\n",
    "    print (\" \")"
   ]
  }
 ],
 "metadata": {
  "kernelspec": {
   "display_name": "Python 2",
   "language": "python",
   "name": "python2"
  },
  "language_info": {
   "codemirror_mode": {
    "name": "ipython",
    "version": 2
   },
   "file_extension": ".py",
   "mimetype": "text/x-python",
   "name": "python",
   "nbconvert_exporter": "python",
   "pygments_lexer": "ipython2",
   "version": "2.7.15"
  }
 },
 "nbformat": 4,
 "nbformat_minor": 2
}
