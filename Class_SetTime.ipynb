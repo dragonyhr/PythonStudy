{
 "cells": [
  {
   "cell_type": "code",
   "execution_count": null,
   "metadata": {},
   "outputs": [],
   "source": [
    "class Time:\n",
    "    '''this is my abstract time class'''\n",
    "   def __init__(self, hour = 0, minute = 0, second = 0):\n",
    "       '''this is my time class constructor setting hours,mins and secondes'''\n",
    "       self.settime(hour, minute, second)\n",
    "   def settime(self, hour, minute, second):\n",
    "       '''class method to set he time contents'''\n",
    "       self.hour = hour\n",
    "       self.minute = minute\n",
    "       self.second = second\n",
    "       \n",
    "   def printmilitary(self):\n",
    "       ''' print class in military time format'''\n",
    "       print \"{:0>2d}:{:0>2d}:{:0>2d}\".format(self.hour,self.minute,self.second)>\n",
    "   def printstandard(self):\n",
    "       ''' print the class in standard time format'''\n",
    "       standardtime = \"\"\n",
    "       if self.hour == 0 or self.hour == 12:\n",
    "          standardtime += '12'\n",
    "       else:\n",
    "          standardtime += \"%d\"%(self.hour % 12)\n",
    "       standardtime += \":%.2d:%.2d\"%(self.minute, self.second)\n",
    "       \n",
    "       if self.hour < 12:\n",
    "          standardtime += \"AM\"\n",
    "       else:\n",
    "          standardtime =+ \"PM\"\n",
    "          \n",
    "       print standardtime\n",
    "myTime = Time(16,51,45)\n",
    "myTime.settime(20,13,01)\n",
    "myTime.printmilitary()\n",
    "myTime.printstandard()\n",
    "\n",
    "print \"bases = \", Time.__bases__\n",
    "print \"clss dict = \", Time.__dict__\n",
    "print \"docstring = \", Time.__doc__\n",
    "print \"current Module = \", Time.__module__\n",
    "print \"Class Name = \", Time.__name__\n",
    "#print \"source class\", mytime.__class__\n",
    "#print \"dict = \", mytime.__dict__"
   ]
  }
 ],
 "metadata": {
  "kernelspec": {
   "display_name": "Python 2",
   "language": "python",
   "name": "python2"
  },
  "language_info": {
   "codemirror_mode": {
    "name": "ipython",
    "version": 2
   },
   "file_extension": ".py",
   "mimetype": "text/x-python",
   "name": "python",
   "nbconvert_exporter": "python",
   "pygments_lexer": "ipython2",
   "version": "2.7.15"
  }
 },
 "nbformat": 4,
 "nbformat_minor": 2
}
