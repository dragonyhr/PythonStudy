{
 "cells": [
  {
   "cell_type": "code",
   "execution_count": 1,
   "metadata": {},
   "outputs": [
    {
     "ename": "NameError",
     "evalue": "global name 'TwoDshape' is not defined",
     "output_type": "error",
     "traceback": [
      "\u001b[1;31m\u001b[0m",
      "\u001b[1;31mNameError\u001b[0mTraceback (most recent call last)",
      "\u001b[1;32m<ipython-input-1-1c1ad9e0efd4>\u001b[0m in \u001b[0;36m<module>\u001b[1;34m()\u001b[0m\n\u001b[0;32m     41\u001b[0m         \u001b[1;34m'''circle class override str'''\u001b[0m\u001b[1;33m\u001b[0m\u001b[0m\n\u001b[0;32m     42\u001b[0m         \u001b[1;32mreturn\u001b[0m \u001b[1;34m\"{} radius={}\"\u001b[0m\u001b[1;33m.\u001b[0m\u001b[0mformat\u001b[0m\u001b[1;33m(\u001b[0m\u001b[0mTwoDShape\u001b[0m\u001b[1;33m.\u001b[0m\u001b[0m__str__\u001b[0m\u001b[1;33m(\u001b[0m\u001b[0mself\u001b[0m\u001b[1;33m)\u001b[0m\u001b[1;33m)\u001b[0m\u001b[1;33m.\u001b[0m\u001b[0mself\u001b[0m\u001b[1;33m.\u001b[0m\u001b[0mradius\u001b[0m\u001b[1;33m\u001b[0m\u001b[0m\n\u001b[1;32m---> 43\u001b[1;33m \u001b[0mSnaf\u001b[0m \u001b[1;33m=\u001b[0m \u001b[0mCircle\u001b[0m\u001b[1;33m(\u001b[0m\u001b[1;36m4.2\u001b[0m\u001b[1;33m,\u001b[0m\u001b[1;36m4.2\u001b[0m\u001b[1;33m,\u001b[0m\u001b[1;33m(\u001b[0m\u001b[1;36m1.0\u001b[0m\u001b[1;33m,\u001b[0m\u001b[1;36m1.0\u001b[0m\u001b[1;33m,\u001b[0m\u001b[1;36m1.0\u001b[0m\u001b[1;33m)\u001b[0m\u001b[1;33m,\u001b[0m\u001b[1;36m2.2\u001b[0m\u001b[1;33m)\u001b[0m\u001b[1;33m\u001b[0m\u001b[0m\n\u001b[0m\u001b[0;32m     44\u001b[0m \u001b[1;32mprint\u001b[0m \u001b[0mSnaf\u001b[0m\u001b[1;33m\u001b[0m\u001b[0m\n\u001b[0;32m     45\u001b[0m \u001b[1;33m\u001b[0m\u001b[0m\n",
      "\u001b[1;32m<ipython-input-1-1c1ad9e0efd4>\u001b[0m in \u001b[0;36m__init__\u001b[1;34m(self, xpos, ypos, color, radius)\u001b[0m\n\u001b[0;32m     36\u001b[0m     \u001b[1;32mdef\u001b[0m \u001b[0m__init__\u001b[0m\u001b[1;33m(\u001b[0m\u001b[0mself\u001b[0m\u001b[1;33m,\u001b[0m\u001b[0mxpos\u001b[0m\u001b[1;33m,\u001b[0m\u001b[0mypos\u001b[0m\u001b[1;33m,\u001b[0m\u001b[0mcolor\u001b[0m\u001b[1;33m,\u001b[0m\u001b[0mradius\u001b[0m\u001b[1;33m=\u001b[0m\u001b[1;36m1.0\u001b[0m\u001b[1;33m)\u001b[0m\u001b[1;33m:\u001b[0m\u001b[1;33m\u001b[0m\u001b[0m\n\u001b[0;32m     37\u001b[0m         \u001b[1;34m'''constructor for Circle class.The parent class need the radius information'''\u001b[0m\u001b[1;33m\u001b[0m\u001b[0m\n\u001b[1;32m---> 38\u001b[1;33m         \u001b[0mTwoDshape\u001b[0m\u001b[1;33m.\u001b[0m\u001b[0m__init__\u001b[0m\u001b[1;33m(\u001b[0m\u001b[0mself\u001b[0m\u001b[1;33m,\u001b[0m\u001b[0mxpos\u001b[0m\u001b[1;33m,\u001b[0m\u001b[0mypos\u001b[0m\u001b[1;33m,\u001b[0m\u001b[0mcolor\u001b[0m\u001b[1;33m)\u001b[0m\u001b[1;33m\u001b[0m\u001b[0m\n\u001b[0m\u001b[0;32m     39\u001b[0m         \u001b[0mself\u001b[0m\u001b[1;33m.\u001b[0m\u001b[0mradius\u001b[0m \u001b[1;33m=\u001b[0m \u001b[0mradius\u001b[0m\u001b[1;33m\u001b[0m\u001b[0m\n\u001b[0;32m     40\u001b[0m     \u001b[1;32mdef\u001b[0m \u001b[0m__str__\u001b[0m\u001b[1;33m(\u001b[0m\u001b[0mself\u001b[0m\u001b[1;33m)\u001b[0m\u001b[1;33m:\u001b[0m\u001b[1;33m\u001b[0m\u001b[0m\n",
      "\u001b[1;31mNameError\u001b[0m: global name 'TwoDshape' is not defined"
     ]
    }
   ],
   "source": [
    "class Shape:\n",
    "     '''base class fdor all geometry'''\n",
    "     #constructor\n",
    "     def __init__(self, pos = (0.0, 0.0, 0.0), color = (1.0, 1.0 ,1.0)):\n",
    "         '''constructor for shape class'''\n",
    "         self.setPosition(pos)\n",
    "         self.setColor(color)\n",
    "     def setPosition(self, parentpos):\n",
    "         '''method to initialize shapes position'''\n",
    "         self.position = parentpos\n",
    "     def setColor (self, parentcolor):\n",
    "         ''' method to initialize color'''\n",
    "         self.color = parentcolor\n",
    "     def __str__(self):\n",
    "         '''string override fot the shape class'''\n",
    "         return \"shape postione = {} color = {}\".format(self.position, self.color)\n",
    "class TwoDShape(Shape):\n",
    "    ''' Tweodshpae is a child of the parent class shape'''\n",
    "    ''' notice that all objects in this class have only 2 dimensions'''\n",
    "    def __init__(self, xpos=0.0, zpos=0.0, color = (2.0, 2.0 ,2.0)):\n",
    "        '''constructor for the 2d class, remember we need to create a Y vale in order to create intance'''\n",
    "        self.setPosition(xpos,zpos)\n",
    "        self.setColor(color)\n",
    "        \n",
    "    def setPosition(self, xpos, zpos):\n",
    "        '''override parents method'''\n",
    "        ypos = 0\n",
    "        Shape.setPosition(self, (xpos, ypos, zpos))\n",
    "    def __str__(self):\n",
    "        '''string overrids for 2d shape'''\n",
    "        '''just use parents function'''\n",
    "        return \"2D{}\".format(Shape.__str__(self))\n",
    "        \n",
    "class Circle(TwoDShape):\n",
    "    '''Circle is a child of TwoDshape and grandchild of shape'''\n",
    "    def __init__(self,xpos,ypos,color,radius=1.0):\n",
    "        '''constructor for Circle class.The parent class need the radius information'''\n",
    "        TwoDshape.__init__(self,xpos,ypos,color)\n",
    "        self.radius = radius\n",
    "    def __str__(self):\n",
    "        '''circle class override str'''\n",
    "        return \"{} radius={}\".format(TwoDShape.__str__(self).self.radius)\n",
    "Snaf = Circle(4.2,4.2,(1.0,1.0,1.0),2.2)\n",
    "print Snaf\n",
    "        \n",
    "foo = Shape()\n",
    "print foo\n",
    "foo.setPosition((1, 2, 3))\n",
    "foo.setColor((3, 4, 5))\n",
    "print foo\n",
    "bar = TwoDshape()\n",
    "print bar\n",
    "bar.setPosition((44, 3, 44))\n",
    "bar.setColor((.3, .3, .4)) #tuple\n",
    "print bar"
   ]
  },
  {
   "cell_type": "code",
   "execution_count": null,
   "metadata": {},
   "outputs": [],
   "source": []
  }
 ],
 "metadata": {
  "kernelspec": {
   "display_name": "Python 2",
   "language": "python",
   "name": "python2"
  },
  "language_info": {
   "codemirror_mode": {
    "name": "ipython",
    "version": 2
   },
   "file_extension": ".py",
   "mimetype": "text/x-python",
   "name": "python",
   "nbconvert_exporter": "python",
   "pygments_lexer": "ipython2",
   "version": "2.7.15"
  }
 },
 "nbformat": 4,
 "nbformat_minor": 2
}
