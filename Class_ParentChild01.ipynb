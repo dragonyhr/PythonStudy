{
 "cells": [
  {
   "cell_type": "code",
   "execution_count": null,
   "metadata": {},
   "outputs": [],
   "source": [
    "class Shape:\n",
    "     '''base class fdor all geometry'''\n",
    "     #constructor\n",
    "     def __init__(self, pos = (0.0, 0.0, 0.0), color = (1.0, 1.0 ,1.0)):\n",
    "         '''constructor for shape class'''\n",
    "         self.setPosition(pos)\n",
    "         self.setColor(color)\n",
    "     def setPosition(self, parentpos):\n",
    "         '''method to initialize shapes position'''\n",
    "         self.position = parentpos\n",
    "     def setColor (self, parentcolor):\n",
    "         ''' method to initialize color'''\n",
    "         self.color = parentcolor\n",
    "     def __str__(self):\n",
    "         '''string override fot the shape class'''\n",
    "         return \"shape postione = {} color = {}\".format(self.position, self.color)\n",
    "class TwoDshape(Shape):\n",
    "    ''' Tweodshpae is a cchild of the parent class shaoep'''\n",
    "    ''' notice that all apbjects in this class haver only 2 dimensions'''\n",
    "    def __init__(self, xpos=0.0, zpos=0.0, color = (2.0, 2.0 ,2.0)):\n",
    "        '''constructor for the 2d class, remember we need ato create a Y vale in order to create intance'''\n",
    "        ypos = 0\n",
    "        position = (xpos, ypos, zpos)\n",
    "        Shape.__init__(self, position, color)\n",
    "    def setPosition(self, xpos, zpos):\n",
    "        '''override parents method'''\n",
    "        ypos = 0\n",
    "        Shape.setPosition(self, (xpos, ypos, zpos))\n",
    "        \n",
    "foo = Shape()\n",
    "print foo\n",
    "foo.setPosition((1, 2, 3))\n",
    "foo.setColor((3, 4, 5))\n",
    "print foo\n",
    "bar = TwoDshape()\n",
    "print bar\n",
    "bar.setPosition((44, 3, 44))\n",
    "bar.setColor((.3, .3, .4)) #tuple\n",
    "print bar"
   ]
  }
 ],
 "metadata": {
  "kernelspec": {
   "display_name": "Python 2",
   "language": "python",
   "name": "python2"
  },
  "language_info": {
   "codemirror_mode": {
    "name": "ipython",
    "version": 2
   },
   "file_extension": ".py",
   "mimetype": "text/x-python",
   "name": "python",
   "nbconvert_exporter": "python",
   "pygments_lexer": "ipython2",
   "version": "2.7.15"
  }
 },
 "nbformat": 4,
 "nbformat_minor": 2
}
