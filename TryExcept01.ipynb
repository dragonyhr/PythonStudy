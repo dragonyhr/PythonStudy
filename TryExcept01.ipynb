{
 "cells": [
  {
   "cell_type": "code",
   "execution_count": null,
   "metadata": {},
   "outputs": [],
   "source": [
    "import math\n",
    "#Custome Exception class, a child of Arithemetic error\n",
    "class NegativeNumberError(ArithmeticError):\n",
    "    '''Custom Exception class, which is a child of Arithmetic error'''\n",
    "    pass\n",
    "def squareRoot(number):\n",
    "    if number < 0:\n",
    "        raise NegativeNumberError, \"square root of negative number not permitted\"\n",
    "    return math.sqrt(number)\n",
    "while 1:\n",
    "    try:\n",
    "        userValue =float(raw_input(\"Enter a number:\"))\n",
    "        print squareRoot(userValue)\n",
    "    except ValueError:\n",
    "        print \"Can't make a float from a sring\"\n",
    "    except NegativeNumberError, exception:\n",
    "        print exception\n",
    "    else:\n",
    "        break\n",
    "        "
   ]
  }
 ],
 "metadata": {
  "kernelspec": {
   "display_name": "Python 2",
   "language": "python",
   "name": "python2"
  },
  "language_info": {
   "codemirror_mode": {
    "name": "ipython",
    "version": 2
   },
   "file_extension": ".py",
   "mimetype": "text/x-python",
   "name": "python",
   "nbconvert_exporter": "python",
   "pygments_lexer": "ipython2",
   "version": "2.7.15"
  }
 },
 "nbformat": 4,
 "nbformat_minor": 2
}
