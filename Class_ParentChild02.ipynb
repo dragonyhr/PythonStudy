{
 "cells": [
  {
   "cell_type": "code",
   "execution_count": null,
   "metadata": {},
   "outputs": [],
   "source": [
    "##import hou\n",
    "#topnode = hou.createNode('/obj')\n",
    "class Geo:\n",
    "    '''create a base class to store fundamental information need to create child class'''\n",
    "    def __init__(self,name = 'default'):\n",
    "        self.name = name\n",
    "        self.createContainer()\n",
    "        self.createAnchor()\n",
    "        self.finishOutput()\n",
    "        \n",
    "    def __setattr__(self, name ,value):\n",
    "        '''if the attribute is size or color then make modification here'''\n",
    "        self.__dict__[name] = value\n",
    "        if name == 'size':\n",
    "            self.container.parm('scale').set(value) \n",
    "        elif name == 'color':\n",
    "\n",
    "            self.colorNode.parmTuple('color').set(value)\n",
    "    \n",
    "    def createContainer(self):\n",
    "        '''create classs top mode and container for my obejtect'''\n",
    "        topnode = hou.node('/obj')\n",
    "        self.container = topnode.createNode(\"geo\", self.name)\n",
    "    def createAnchor(self):\n",
    "        '''create an anchor node from which to attach all objects to'''\n",
    "        outName = '{}_outputNode'.format(self.name)\n",
    "        self.anchor = self.container.createNode(\"null\", outName)\n",
    "    def finishOutput(self):\n",
    "        '''add a color node to add color and clean up the place'''\n",
    "        self.colorNode = self.container.createNode(\"color\",'objectcolor')\n",
    "        self.anchor.setInput(0, self.colorNode)\n",
    "        self.anchor.setDisplayFlag(True)\n",
    "        self.layout()\n",
    "        \n",
    "    def layout(self):\n",
    "        '''clean up this place'''\n",
    "        self.container.layoutChildren()\n",
    "#    from Geomodule(file name) import Geo\n",
    "class lobsterFace(Geo):\n",
    "    '''this is a child of geo'''\n",
    "    def __init__(self, name='rocklobster', size = 1, color = (0.0, 1.0, 0.0)):\n",
    "        Geo.__init__(self, name)\n",
    "        self.createLobsterFace()\n",
    "    def createLobsterFace(self):\n",
    "        '''create the squab you lilly liver land lubber'''\n",
    "        self.squab = self.container.createNode(\"testgeometry_squab\", \"lobsterface\")\n",
    "        self.hookMeUp(self.squab)\n",
    "    def hookMeUp(self, objectNode):\n",
    "        '''take whatecer object node is given and attach it to the color'''\n",
    "        self.color.setInput(0, objectNode)\n",
    "        self.anchor.setDisplayFlag(True)\n",
    "        self.layout()\n",
    "#foo = Geo(\"stu\")\n",
    "loo = lobsterFace(\"stu\")\n",
    "loo.size = .1"
   ]
  }
 ],
 "metadata": {
  "kernelspec": {
   "display_name": "Python 2",
   "language": "python",
   "name": "python2"
  },
  "language_info": {
   "codemirror_mode": {
    "name": "ipython",
    "version": 2
   },
   "file_extension": ".py",
   "mimetype": "text/x-python",
   "name": "python",
   "nbconvert_exporter": "python",
   "pygments_lexer": "ipython2",
   "version": "2.7.15"
  }
 },
 "nbformat": 4,
 "nbformat_minor": 2
}
