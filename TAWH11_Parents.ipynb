{
 "cells": [
  {
   "cell_type": "code",
   "execution_count": null,
   "metadata": {},
   "outputs": [],
   "source": [
    "class HouParent:\n",
    "    '''create a base class to store fundamental information need to create child class'''\n",
    "    def __init__(self,name = 'default'):\n",
    "        self.name = name\n",
    "        self.createContainer()\n",
    "        self.createAnchor()\n",
    "        self.finishOutput()\n",
    "    def __str__(self):\n",
    "        '''string override for the shape class'''\n",
    "        return \"shape postione = {} color = {}\".format(self.position, self.color)\n",
    "    def createContainer(self):\n",
    "        '''create classs top mode and container for my obejtect'''\n",
    "        topnode = hou.node('/obj')\n",
    "        self.container = topnode.createNode(\"geo\", self.name)\n",
    "class Geometry(HouParent):\n",
    "    '''creat a geo class '''\n",
    "    def __init__(self, name = 'Geometry')\n",
    "        HouParent.__init__(self, name)\n",
    "        self.color()\n",
    "        self.translation()\n",
    "        self.rotation()\n",
    "        self.scale()\n",
    "    def color(self,r,g,b):\n",
    "        self.rval=r\n",
    "        self.gval=g\n",
    "        self.bval=b\n",
    "    def translation(self,x,y,z)\n",
    "        self.x=x\n",
    "        self.y=y\n",
    "        self.z=z\n",
    "    def rotation(self,Rotation)\n",
    "    def scale(self,Scale)\n",
    "class Donut(Geometry):\n",
    "    def __init__(self,)\n",
    "class Teapot(Geometry):"
   ]
  }
 ],
 "metadata": {
  "kernelspec": {
   "display_name": "Python 2",
   "language": "python",
   "name": "python2"
  },
  "language_info": {
   "codemirror_mode": {
    "name": "ipython",
    "version": 2
   },
   "file_extension": ".py",
   "mimetype": "text/x-python",
   "name": "python",
   "nbconvert_exporter": "python",
   "pygments_lexer": "ipython2",
   "version": "2.7.15"
  }
 },
 "nbformat": 4,
 "nbformat_minor": 2
}
