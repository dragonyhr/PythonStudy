{
 "cells": [
  {
   "cell_type": "code",
   "execution_count": null,
   "metadata": {},
   "outputs": [],
   "source": [
    "class ColorSwatch:   \n",
    "    \"\"\"Class Color with custom attributes\"\"\"   \n",
    "    numColors = 0  \n",
    "    upperColor = 1 \n",
    "    lowerColor = 0\n",
    "    #Initialize class place holders \n",
    "    #initial values are needed to set type only! \n",
    "    root = hou.node(\"/obj\")           #root for all objects  \n",
    "    containerNode = hou.node(\"/obj\")    #container node for all sub objects \n",
    "    mergeSOP = hou.node(\"/obj\")  #Merge SOP in ContainerNode which pulls all objects together\n",
    "    \n",
    "    def __init__(self, name = \"color\", red = 1.0, green=1.0, blue = 1.0):      \n",
    "        \"\"\" Constructor initializes all the values to 1.0 \"\"\"    #each Assignment invokes __setAttr__ which tests colors for being in range       \n",
    "        self.nodeName = name      \n",
    "        self.rVal = red       \n",
    "        self.bVal = blue      \n",
    "        self.gVal = green\n",
    "        if ColorSwatch.numColors == 0:        \n",
    "            self.createFirstDisplay()    \n",
    "        self.appendSwatch()\n",
    "        #Functions as an error checker to make sure colors are within range  \n",
    "    def __setattr__(self, name, value):    \n",
    "        \"\"\" Override of SetAttr, Sets value to an attribute\"\"\"      \n",
    "        #test the range of each color component\n",
    "        \n",
    "        if name == \"rVal\" or name == \"gVal\" or name == \"bVal\":    \n",
    "            if value < ColorSwatch.lowerColor:          \n",
    "                self.__dict__[name] = ColorSwatch.lowerColor   \n",
    "            elif value > ColorSwatch.upperColor:              \n",
    "                self.__dict__[name] = ColorSwatch.upperColor          \n",
    "            else:           \n",
    "                self.__dict__[name] = value         \n",
    "            return\n",
    "        if name in [\"nodeName\"]:            \n",
    "            self.__dict__[\"nodeName\"] = value           \n",
    "            return\n",
    "        raise ValueError, \"SetAttr: Invalid colorSwatch variableName: {}\".format(name) \n",
    "        def __str__(self):      \n",
    "            \"\"\" do this operation every time a color is 'printed' \"\"\"   \n",
    "            return \"Color:= [{},{}, {} ]\".format(self.nodeName, self.rVal, self.gVal, self.bVal)\n",
    "        def __invert__(self):       \n",
    "            \"\"\" Invert the color \"\"\" \n",
    "            name = (\"{}\") .format(self.nodeName)\n",
    "            red = 1.0 - self.rVal\n",
    "            green = 1.0 - self.gVal   \n",
    "            blue = 1.0 - self.bVal \n",
    "            return ColorSwatch(name, red, green, blue)"
   ]
  }
 ],
 "metadata": {
  "kernelspec": {
   "display_name": "Python 2",
   "language": "python",
   "name": "python2"
  },
  "language_info": {
   "codemirror_mode": {
    "name": "ipython",
    "version": 2
   },
   "file_extension": ".py",
   "mimetype": "text/x-python",
   "name": "python",
   "nbconvert_exporter": "python",
   "pygments_lexer": "ipython2",
   "version": "2.7.15"
  }
 },
 "nbformat": 4,
 "nbformat_minor": 2
}
